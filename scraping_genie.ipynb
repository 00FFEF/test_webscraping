{
 "cells": [
  {
   "cell_type": "code",
   "execution_count": 2,
   "id": "82f9c205",
   "metadata": {},
   "outputs": [],
   "source": [
    "import requests"
   ]
  },
  {
   "cell_type": "code",
   "execution_count": 3,
   "id": "c60749dd",
   "metadata": {},
   "outputs": [],
   "source": [
    "req = requests.get('https://www.genie.co.kr/chart/top200')"
   ]
  },
  {
   "cell_type": "code",
   "execution_count": 5,
   "id": "7f661847",
   "metadata": {},
   "outputs": [
    {
     "data": {
      "text/plain": [
       "b'<br>\\r\\n<br>\\r\\n<center>\\r\\n<img src=\"http://www.geniemusic.co.kr/images/common/logo_r1.png\"><br>\\r\\n<h2> <meta http-equiv=\"Content-Type\" content=\"text/html;charset=UTF-8\"> \\xec\\xa0\\x91\\xec\\x86\\x8d\\xec\\x9a\\x94\\xec\\xb2\\xad\\xec\\x9d\\xb4 \\xeb\\xb3\\xb4\\xec\\x95\\x88\\xec\\xa0\\x95\\xec\\xb1\\x85\\xec\\x97\\x90 \\xec\\x9d\\x98\\xed\\x95\\xb4 \\xec\\xb0\\xa8\\xeb\\x8b\\xa8\\xeb\\x90\\x98\\xec\\x97\\x88\\xec\\x8a\\xb5\\xeb\\x8b\\x88\\xeb\\x8b\\xa4. \\xeb\\x8b\\xb9\\xec\\x82\\xac \\xea\\xb3\\xa0\\xea\\xb0\\x9d\\xec\\x84\\xbc\\xed\\x84\\xb0\\xeb\\xa1\\x9c \\xeb\\xac\\xb8\\xec\\x9d\\x98\\xed\\x95\\xb4\\xec\\xa3\\xbc\\xec\\x8b\\xad\\xec\\x8b\\x9c\\xec\\x98\\xa4.<br><br>\\r\\nThe security policy of the connection request is blocked. Contact your customer service representative.<br><br>\\r\\n\\xec\\xa7\\x80\\xeb\\x8b\\x88\\xeb\\xae\\xa4\\xec\\xa7\\x81 \\xea\\xb3\\xa0\\xea\\xb0\\x9d\\xec\\x84\\xbc\\xed\\x84\\xb0 1577-5337<br><br>\\r\\n</h2>\\r\\n</center>\\r\\n<br>'"
      ]
     },
     "execution_count": 5,
     "metadata": {},
     "output_type": "execute_result"
    }
   ],
   "source": [
    "req.content"
   ]
  },
  {
   "cell_type": "code",
   "execution_count": 6,
   "id": "8633850c",
   "metadata": {},
   "outputs": [],
   "source": [
    "from bs4 import BeautifulSoup as bs"
   ]
  },
  {
   "cell_type": "code",
   "execution_count": 7,
   "id": "18275ccd",
   "metadata": {},
   "outputs": [],
   "source": [
    "soup = bs(req.content, 'html.parser')"
   ]
  },
  {
   "cell_type": "code",
   "execution_count": 8,
   "id": "9048710a",
   "metadata": {},
   "outputs": [
    {
     "data": {
      "text/plain": [
       "<br/>\n",
       "<br/>\n",
       "<center>\n",
       "<img src=\"http://www.geniemusic.co.kr/images/common/logo_r1.png\"/><br/>\n",
       "<h2> <meta content=\"text/html;charset=utf-8\" http-equiv=\"Content-Type\"/> 접속요청이 보안정책에 의해 차단되었습니다. 당사 고객센터로 문의해주십시오.<br/><br/>\n",
       "The security policy of the connection request is blocked. Contact your customer service representative.<br/><br/>\n",
       "지니뮤직 고객센터 1577-5337<br/><br/>\n",
       "</h2>\n",
       "</center>\n",
       "<br/>"
      ]
     },
     "execution_count": 8,
     "metadata": {},
     "output_type": "execute_result"
    }
   ],
   "source": [
    "soup"
   ]
  },
  {
   "cell_type": "code",
   "execution_count": null,
   "id": "78446c12",
   "metadata": {},
   "outputs": [],
   "source": []
  }
 ],
 "metadata": {
  "kernelspec": {
   "display_name": "Python 3",
   "language": "python",
   "name": "python3"
  },
  "language_info": {
   "codemirror_mode": {
    "name": "ipython",
    "version": 3
   },
   "file_extension": ".py",
   "mimetype": "text/x-python",
   "name": "python",
   "nbconvert_exporter": "python",
   "pygments_lexer": "ipython3",
   "version": "3.6.4"
  }
 },
 "nbformat": 4,
 "nbformat_minor": 5
}
