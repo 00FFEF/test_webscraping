{
 "cells": [
  {
   "cell_type": "code",
   "execution_count": 1,
   "id": "991f740f",
   "metadata": {},
   "outputs": [],
   "source": [
    "from bs4 import BeautifulSoup"
   ]
  },
  {
   "cell_type": "code",
   "execution_count": 2,
   "id": "7478c367",
   "metadata": {},
   "outputs": [],
   "source": [
    "html = '''\n",
    "<html>\n",
    "    <head>\n",
    "    </head>\n",
    "    <body>\n",
    "        <h1> 우리동네시장</h1>\n",
    "            <div class = 'sale'>\n",
    "                <p id='fruits1' class='fruits'>\n",
    "                    <span class = 'name'> 바나나 </span>\n",
    "                    <span class = 'price'> 3000원 </span>\n",
    "                    <span class = 'inventory'> 500개 </span>\n",
    "                    <span class = 'store'> 가나다상회 </span>\n",
    "                    <a href = 'http://bit.ly/forPlaywithData' > 홈페이지 </a>\n",
    "                </p>\n",
    "            </div>\n",
    "            <div class = 'prepare'>\n",
    "                <p id='fruits2' class='fruits'>\n",
    "                    <span class ='name'> 파인애플 </span>\n",
    "                </p>\n",
    "            </div>\n",
    "    </body>\n",
    "</html>\n",
    "'''\n"
   ]
  },
  {
   "cell_type": "code",
   "execution_count": 5,
   "id": "08042ce1",
   "metadata": {},
   "outputs": [],
   "source": [
    "soup = BeautifulSoup(html, 'html.parser')"
   ]
  },
  {
   "cell_type": "code",
   "execution_count": 8,
   "id": "60669597",
   "metadata": {},
   "outputs": [],
   "source": [
    "span = soup.select('span')"
   ]
  },
  {
   "cell_type": "code",
   "execution_count": 10,
   "id": "fbe0746c",
   "metadata": {},
   "outputs": [
    {
     "data": {
      "text/plain": [
       "(bs4.element.ResultSet,\n",
       " [<span class=\"name\"> 바나나 </span>,\n",
       "  <span class=\"price\"> 3000원 </span>,\n",
       "  <span class=\"inventory\"> 500개 </span>,\n",
       "  <span class=\"store\"> 가나다상회 </span>,\n",
       "  <span class=\"name\"> 파인애플 </span>])"
      ]
     },
     "execution_count": 10,
     "metadata": {},
     "output_type": "execute_result"
    }
   ],
   "source": [
    "type(span), span"
   ]
  },
  {
   "cell_type": "code",
   "execution_count": 11,
   "id": "7036ff6e",
   "metadata": {},
   "outputs": [
    {
     "data": {
      "text/plain": [
       "<span class=\"name\"> 바나나 </span>"
      ]
     },
     "execution_count": 11,
     "metadata": {},
     "output_type": "execute_result"
    }
   ],
   "source": [
    "span[0]"
   ]
  },
  {
   "cell_type": "code",
   "execution_count": 15,
   "id": "d6e28e73",
   "metadata": {},
   "outputs": [],
   "source": [
    "fruits = soup.select('#fruits1')"
   ]
  },
  {
   "cell_type": "code",
   "execution_count": 16,
   "id": "2ef10341",
   "metadata": {},
   "outputs": [
    {
     "data": {
      "text/plain": [
       "(bs4.element.ResultSet,\n",
       " [<p class=\"fruits\" id=\"fruits1\">\n",
       "  <span class=\"name\"> 바나나 </span>\n",
       "  <span class=\"price\"> 3000원 </span>\n",
       "  <span class=\"inventory\"> 500개 </span>\n",
       "  <span class=\"store\"> 가나다상회 </span>\n",
       "  <a href=\"http://bit.ly/forPlaywithData\"> 홈페이지 </a>\n",
       "  </p>])"
      ]
     },
     "execution_count": 16,
     "metadata": {},
     "output_type": "execute_result"
    }
   ],
   "source": [
    "type(fruits), fruits"
   ]
  },
  {
   "cell_type": "code",
   "execution_count": 17,
   "id": "4b2cae71",
   "metadata": {},
   "outputs": [
    {
     "data": {
      "text/plain": [
       "1"
      ]
     },
     "execution_count": 17,
     "metadata": {},
     "output_type": "execute_result"
    }
   ],
   "source": [
    "len(fruits)"
   ]
  },
  {
   "cell_type": "code",
   "execution_count": 19,
   "id": "7be8c31d",
   "metadata": {},
   "outputs": [],
   "source": [
    "result = soup.select('.inventory')"
   ]
  },
  {
   "cell_type": "code",
   "execution_count": 20,
   "id": "7457906f",
   "metadata": {},
   "outputs": [
    {
     "data": {
      "text/plain": [
       "(bs4.element.ResultSet, [<span class=\"inventory\"> 500개 </span>])"
      ]
     },
     "execution_count": 20,
     "metadata": {},
     "output_type": "execute_result"
    }
   ],
   "source": [
    "type(result), result"
   ]
  },
  {
   "cell_type": "code",
   "execution_count": 21,
   "id": "bb19942e",
   "metadata": {},
   "outputs": [
    {
     "data": {
      "text/plain": [
       "1"
      ]
     },
     "execution_count": 21,
     "metadata": {},
     "output_type": "execute_result"
    }
   ],
   "source": [
    "len(result)"
   ]
  },
  {
   "cell_type": "code",
   "execution_count": 22,
   "id": "0a23522c",
   "metadata": {},
   "outputs": [],
   "source": [
    "result1 = soup.select('p#fruits1 > span.name')"
   ]
  },
  {
   "cell_type": "code",
   "execution_count": 23,
   "id": "1284ff11",
   "metadata": {},
   "outputs": [
    {
     "data": {
      "text/plain": [
       "(bs4.element.ResultSet, [<span class=\"name\"> 바나나 </span>])"
      ]
     },
     "execution_count": 23,
     "metadata": {},
     "output_type": "execute_result"
    }
   ],
   "source": [
    "type(result1), result1"
   ]
  },
  {
   "cell_type": "code",
   "execution_count": 24,
   "id": "d2b5acaf",
   "metadata": {},
   "outputs": [
    {
     "data": {
      "text/plain": [
       "1"
      ]
     },
     "execution_count": 24,
     "metadata": {},
     "output_type": "execute_result"
    }
   ],
   "source": [
    "len(result1)"
   ]
  },
  {
   "cell_type": "code",
   "execution_count": 25,
   "id": "8ea548e8",
   "metadata": {},
   "outputs": [],
   "source": [
    "result2 = soup.select('.name')"
   ]
  },
  {
   "cell_type": "code",
   "execution_count": 26,
   "id": "73e6e4f7",
   "metadata": {},
   "outputs": [
    {
     "data": {
      "text/plain": [
       "(bs4.element.ResultSet,\n",
       " [<span class=\"name\"> 바나나 </span>, <span class=\"name\"> 파인애플 </span>])"
      ]
     },
     "execution_count": 26,
     "metadata": {},
     "output_type": "execute_result"
    }
   ],
   "source": [
    "type(result2), result2"
   ]
  },
  {
   "cell_type": "code",
   "execution_count": 37,
   "id": "afe5c28f",
   "metadata": {},
   "outputs": [
    {
     "name": "stdout",
     "output_type": "stream",
     "text": [
      "바나나\n",
      "파인애플\n"
     ]
    }
   ],
   "source": [
    "# len(result2)\n",
    "for tag in result2:\n",
    "    print(tag.text.strip())"
   ]
  },
  {
   "cell_type": "code",
   "execution_count": 30,
   "id": "c7a3594a",
   "metadata": {},
   "outputs": [
    {
     "data": {
      "text/plain": [
       "<span class=\"name\"> 바나나 </span>"
      ]
     },
     "execution_count": 30,
     "metadata": {},
     "output_type": "execute_result"
    }
   ],
   "source": [
    "result2[0]"
   ]
  },
  {
   "cell_type": "code",
   "execution_count": 33,
   "id": "f892d97a",
   "metadata": {},
   "outputs": [],
   "source": [
    "s = result2[0].text"
   ]
  },
  {
   "cell_type": "code",
   "execution_count": 34,
   "id": "a73f1eee",
   "metadata": {},
   "outputs": [
    {
     "data": {
      "text/plain": [
       "'바나나'"
      ]
     },
     "execution_count": 34,
     "metadata": {},
     "output_type": "execute_result"
    }
   ],
   "source": [
    "s.strip()"
   ]
  },
  {
   "cell_type": "code",
   "execution_count": 31,
   "id": "601077a2",
   "metadata": {},
   "outputs": [
    {
     "data": {
      "text/plain": [
       "<span class=\"name\"> 파인애플 </span>"
      ]
     },
     "execution_count": 31,
     "metadata": {},
     "output_type": "execute_result"
    }
   ],
   "source": [
    "result2[1]"
   ]
  },
  {
   "cell_type": "code",
   "execution_count": 35,
   "id": "1a42f8e0",
   "metadata": {},
   "outputs": [
    {
     "data": {
      "text/plain": [
       "'바나나'"
      ]
     },
     "execution_count": 35,
     "metadata": {},
     "output_type": "execute_result"
    }
   ],
   "source": [
    "result2[0].text.strip()"
   ]
  },
  {
   "cell_type": "code",
   "execution_count": 42,
   "id": "b8e5b065",
   "metadata": {},
   "outputs": [
    {
     "data": {
      "text/plain": [
       "'name'"
      ]
     },
     "execution_count": 42,
     "metadata": {},
     "output_type": "execute_result"
    }
   ],
   "source": [
    "cls = result2[0]['class']\n",
    "cls[0]"
   ]
  },
  {
   "cell_type": "code",
   "execution_count": 48,
   "id": "cbc91ada",
   "metadata": {},
   "outputs": [
    {
     "name": "stdout",
     "output_type": "stream",
     "text": [
      "바나나 name\n",
      "파인애플 name\n"
     ]
    }
   ],
   "source": [
    "for tag in result2:\n",
    "    print(tag.text.strip(), tag['class'][0])"
   ]
  },
  {
   "cell_type": "code",
   "execution_count": null,
   "id": "dcc0c458",
   "metadata": {},
   "outputs": [],
   "source": []
  }
 ],
 "metadata": {
  "kernelspec": {
   "display_name": "Python 3",
   "language": "python",
   "name": "python3"
  },
  "language_info": {
   "codemirror_mode": {
    "name": "ipython",
    "version": 3
   },
   "file_extension": ".py",
   "mimetype": "text/x-python",
   "name": "python",
   "nbconvert_exporter": "python",
   "pygments_lexer": "ipython3",
   "version": "3.6.4"
  }
 },
 "nbformat": 4,
 "nbformat_minor": 5
}
